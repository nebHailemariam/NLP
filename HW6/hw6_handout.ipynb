{
  "cells": [
    {
      "cell_type": "markdown",
      "metadata": {
        "id": "YId1X55ZPDWB"
      },
      "source": [
        "# Neural Machine Translation using Seq2Seq Models\n",
        "\n",
        "In HW06, we will be training our own machine translation system. We will use an LSTM encoder decoder model and train it with Pytorch.\n",
        "\n",
        "Make sure you are using a GPU. Go to Runtime -> Change Runtime Type -> GPU."
      ]
    },
    {
      "cell_type": "code",
      "execution_count": null,
      "metadata": {
        "id": "MQy46o98kAfC",
        "colab": {
          "base_uri": "https://localhost:8080/"
        },
        "outputId": "3cac317b-1a69-468d-afa0-c6db8396f4d4"
      },
      "outputs": [
        {
          "output_type": "stream",
          "name": "stdout",
          "text": [
            "Looking in indexes: https://pypi.org/simple, https://us-python.pkg.dev/colab-wheels/public/simple/\n",
            "Requirement already satisfied: sacrebleu in /usr/local/lib/python3.9/dist-packages (2.3.1)\n",
            "Requirement already satisfied: sentencepiece in /usr/local/lib/python3.9/dist-packages (0.1.97)\n",
            "Requirement already satisfied: lxml in /usr/local/lib/python3.9/dist-packages (from sacrebleu) (4.9.2)\n",
            "Requirement already satisfied: regex in /usr/local/lib/python3.9/dist-packages (from sacrebleu) (2022.10.31)\n",
            "Requirement already satisfied: numpy>=1.17 in /usr/local/lib/python3.9/dist-packages (from sacrebleu) (1.22.4)\n",
            "Requirement already satisfied: tabulate>=0.8.9 in /usr/local/lib/python3.9/dist-packages (from sacrebleu) (0.8.10)\n",
            "Requirement already satisfied: colorama in /usr/local/lib/python3.9/dist-packages (from sacrebleu) (0.4.6)\n",
            "Requirement already satisfied: portalocker in /usr/local/lib/python3.9/dist-packages (from sacrebleu) (2.7.0)\n"
          ]
        }
      ],
      "source": [
        "!pip install sacrebleu sentencepiece"
      ]
    },
    {
      "cell_type": "markdown",
      "metadata": {
        "id": "00jNulTjyG72"
      },
      "source": [
        "We will use the TED 2013 English-Mandarin parralel dataset. We have done some cleaning and preprocessing for you. We have also created the train, dev, and test splits. Upload the data from the handout and unzip the file."
      ]
    },
    {
      "cell_type": "code",
      "source": [
        "# from google.colab import drive\n",
        "# drive.mount('/content/drive')\n",
        "\n",
        "# !unzip /content/drive/MyDrive/nlp_hw6/data.zip"
      ],
      "metadata": {
        "id": "x_UW3sA0XGBs"
      },
      "execution_count": null,
      "outputs": []
    },
    {
      "cell_type": "markdown",
      "metadata": {
        "id": "lu9aGskp58pS"
      },
      "source": [
        "Import the libraries we will use. After running the cell below, if your notebook is configured to run on GPU, you should see a `device(type='cuda')` output"
      ]
    },
    {
      "cell_type": "code",
      "execution_count": null,
      "metadata": {
        "id": "M2QfJZy3cygL",
        "scrolled": true,
        "colab": {
          "base_uri": "https://localhost:8080/"
        },
        "outputId": "0520279c-117f-4491-b360-72f1aaaf531f"
      },
      "outputs": [
        {
          "output_type": "stream",
          "name": "stdout",
          "text": [
            "Device being used: cuda\n"
          ]
        }
      ],
      "source": [
        "import operator\n",
        "import os\n",
        "import pickle\n",
        "import random\n",
        "import re\n",
        "import string\n",
        "import unicodedata\n",
        "\n",
        "import numpy as np\n",
        "import sentencepiece as spm\n",
        "import torch\n",
        "import torch.nn.functional as F\n",
        "from sacrebleu.metrics import BLEU, CHRF\n",
        "from tqdm import tqdm\n",
        "\n",
        "device = 'cuda' if torch.cuda.is_available() else 'cpu'\n",
        "\n",
        "device = torch.device(device)\n",
        "print(f\"Device being used: {device}\")"
      ]
    },
    {
      "cell_type": "markdown",
      "metadata": {
        "id": "kFriOo4dyVC-"
      },
      "source": [
        "## Preprocessing and Tokenization\n",
        "\n",
        "We will use Sentencepiece to train BPE tokenization models for both the source and target languages.\n"
      ]
    },
    {
      "cell_type": "markdown",
      "metadata": {
        "id": "LsL4_BeHga-s"
      },
      "source": [
        "Define a function to load the dataset."
      ]
    },
    {
      "cell_type": "code",
      "execution_count": null,
      "metadata": {
        "id": "3MoLDWprMAav"
      },
      "outputs": [],
      "source": [
        "def load_dataset(lang1, lang2, max_length=10, root=\"data\", split=\"train\"):\n",
        "    ipt1 = os.path.join(root, \".\".join([split, lang1]))\n",
        "    ipt2 = os.path.join(root, \".\".join([split, lang2]))\n",
        "    corpus = {lang1: [], lang2: []}\n",
        "    with open(ipt1) as f1, open(ipt2) as f2:\n",
        "        for sent1, sent2 in zip(f1, f2):\n",
        "            clean1 = sent1.strip()\n",
        "            clean2 = sent2.strip()\n",
        "            if len(clean1) == 0 or len(clean2) == 0:\n",
        "                continue\n",
        "            corpus[lang1].append(clean1)\n",
        "            corpus[lang2].append(clean2)\n",
        "    return corpus"
      ]
    },
    {
      "cell_type": "code",
      "execution_count": null,
      "metadata": {
        "id": "t77jfic9MAav",
        "colab": {
          "base_uri": "https://localhost:8080/"
        },
        "outputId": "207a4658-aef1-44a4-efe4-e96fab4310de"
      },
      "outputs": [
        {
          "output_type": "stream",
          "name": "stdout",
          "text": [
            "len(train_data['en'])=42708, len(train_data['zh'])=42708\n"
          ]
        }
      ],
      "source": [
        "train_data = load_dataset('en', 'zh', split=\"train\")\n",
        "valid_data = load_dataset('en', 'zh', split=\"valid\")\n",
        "assert len(train_data['en']) == 42708, \"Should be 42708\"\n",
        "assert len(train_data['zh']) == 42708, \"Should be 42708\"\n",
        "assert len(valid_data['en']) == 5338, \"Should be 5338\"\n",
        "assert len(valid_data['zh']) == 5338, \"Should be 5338\"\n",
        "print(f\"{len(train_data['en'])=}, {len(train_data['zh'])=}\")"
      ]
    },
    {
      "cell_type": "markdown",
      "metadata": {
        "id": "pIWufnOogsK7"
      },
      "source": [
        "Train the Sentencepiece models. Training the Mandarin model will take longer."
      ]
    },
    {
      "cell_type": "code",
      "execution_count": null,
      "metadata": {
        "id": "k7T12yXjMAav"
      },
      "outputs": [],
      "source": [
        "spm.SentencePieceTrainer.train(\n",
        "    sentence_iterator=iter(train_data[\"en\"]),\n",
        "    model_prefix=\"en-zh.en\",\n",
        "    vocab_size=5000,\n",
        "    model_type=\"bpe\",\n",
        ")"
      ]
    },
    {
      "cell_type": "code",
      "execution_count": null,
      "metadata": {
        "id": "mgtt0saFMAav"
      },
      "outputs": [],
      "source": [
        "spm.SentencePieceTrainer.train(\n",
        "    sentence_iterator=iter(train_data[\"zh\"]),\n",
        "    model_prefix=\"en-zh.zh\",\n",
        "    vocab_size=5000,\n",
        "    model_type=\"bpe\",\n",
        ")"
      ]
    },
    {
      "cell_type": "markdown",
      "metadata": {
        "id": "orQ6EWFOdjaC"
      },
      "source": [
        "### Checkpoint 1\n",
        "\n",
        "Test your newly trained Sentencepiece models on a snippet of the dataset. You can download the model files so that you don't have to redo the training."
      ]
    },
    {
      "cell_type": "code",
      "execution_count": null,
      "metadata": {
        "id": "JmmXD5HOMAaw",
        "colab": {
          "base_uri": "https://localhost:8080/"
        },
        "outputId": "0466bd03-03b8-4fd1-fad0-a6f0debc2cda"
      },
      "outputs": [
        {
          "output_type": "stream",
          "name": "stdout",
          "text": [
            "[['▁What', '▁gives', '▁us', '▁the', '▁cou', 'rage', '?'], ['▁\"', 'C', 'ome', '▁on', '.', '▁You', '▁got', '▁a', '▁t', 'icket', '?\"'], ['▁P', 'ush', '▁it', '▁and', '▁it', '▁becomes', '▁house', '▁sha', 'ped', '.'], ['▁R', 'est', 'ing', '▁on', '▁the', '▁sa', 'uc', 'er', '▁were', '▁two', '▁pack', 'ets', '▁of', '▁su', 'g', 'ar', '.'], ['▁Now', ',', '▁here', '▁is', '▁K', 'ing', '▁C', 'n', 'ut', ',', '▁king', '▁a', '▁thousand', '▁years', '▁ago', '.'], ['▁And', '▁they', '▁say', ',', '▁\"', 'K', 'e', 'ep', '▁your', '▁laws', '▁off', '▁my', '▁body', '.\"'], ['▁The', '▁Bill', '▁G', 'ates', '▁song', '!'], ['▁You', \"'\", 're', '▁critical', '.'], ['▁Okay', ',', '▁so', '▁you', '▁smile', ',', '▁fr', 'own', 'ing', '.'], ['▁Because', '▁this', '▁didn', \"'\", 't', '▁want', '▁to', '▁be', '▁a', '▁surprise', '.']]\n"
          ]
        }
      ],
      "source": [
        "en_sp = spm.SentencePieceProcessor(model_file=\"en-zh.en.model\")\n",
        "assert en_sp.encode_as_pieces(train_data[\"en\"][0]) == ['▁What', '▁gives', '▁us', '▁the', '▁cou', 'rage', '?']\n",
        "print(en_sp.encode_as_pieces(train_data[\"en\"][:10]))"
      ]
    },
    {
      "cell_type": "code",
      "execution_count": null,
      "metadata": {
        "id": "tTXXmUJ5MAaw",
        "scrolled": true,
        "colab": {
          "base_uri": "https://localhost:8080/"
        },
        "outputId": "6ec067c8-2e27-4b4a-a68b-b03399bf6efa"
      },
      "outputs": [
        {
          "output_type": "stream",
          "name": "stdout",
          "text": [
            "[['▁什么', '给', '予', '了我', '这', '项', '勇', '气', '?'], ['▁“', '哦', '说', '吧', ',', '你', '吃', '罚', '单', '了', '?”'], ['▁', '推', '一下', ',', '它', '又', '成了', '屋', '形'], ['▁只', '见', '茶', '托', '上', '赫', '然', '躺', '着', '▁', '两', '小', '包', '糖', '。'], ['▁现在', '看到的是', '克', '努', '特', '王', ',', '1', '000', '年前', '的', '国', '王', '。'], ['▁他们说', '”', '不要', '给我', '这些', '法', '律', '。“'], ['▁比', '尔', '盖', '茨', '之', '歌', '!'], ['▁你', '有些', '怀', '疑', '.'], ['▁O', 'K', ',', '当', '你', '▁', '微', '笑', '和', '皱', '眉', '头', '时', '。'], ['▁因为我们', '不想', '这个项目', '让', '大家', '觉得', '突然', '。']]\n"
          ]
        }
      ],
      "source": [
        "zh_sp = spm.SentencePieceProcessor(model_file=\"en-zh.zh.model\")\n",
        "assert zh_sp.encode_as_pieces(train_data[\"zh\"][0]) == ['▁什么', '给', '予', '了我', '这', '项', '勇', '气', '?']\n",
        "print(zh_sp.encode_as_pieces(train_data[\"zh\"][:10]))"
      ]
    },
    {
      "cell_type": "markdown",
      "metadata": {
        "id": "kHp1PYyUg9NM"
      },
      "source": [
        "## Model Definitions\n",
        "\n",
        "Now we need to define our models. In general, we need to inherit the `torch.nn.Module` class, define an `__init__` function where we create the layers in our model, and a `forward` function where we compute the outputs from the inputs.\n",
        "\n",
        "You can check [here](https://pytorch.org/tutorials/beginner/basics/buildmodel_tutorial.html) for a more detailed tutorial on building neural networks in Pytorch."
      ]
    },
    {
      "cell_type": "markdown",
      "metadata": {
        "id": "8BVBkJVczD3D"
      },
      "source": [
        "For the encoder, we use a bidirectional LSTM."
      ]
    },
    {
      "cell_type": "code",
      "execution_count": null,
      "metadata": {
        "id": "rk_1ZuLWj5N9"
      },
      "outputs": [],
      "source": [
        "class EncoderRNN(torch.nn.Module):\n",
        "    def __init__(self, input_size, emb_size, hidden_size, num_layers=2, dropout=0.3):\n",
        "        super().__init__()\n",
        "\n",
        "        # TO-DO: Create nn.Embedding layer with (input_size, emb_size)\n",
        "        self.embedding = torch.nn.Embedding(input_size, emb_size)\n",
        "\n",
        "        # TO-DO: Create nn.LSTM layer with (emb_size, hidden_size)\n",
        "        self.lstm = torch.nn.LSTM(\n",
        "            input_size=emb_size,\n",
        "            hidden_size=hidden_size,\n",
        "            num_layers=num_layers,\n",
        "            batch_first=True,\n",
        "            bidirectional=True,\n",
        "            dropout=dropout,\n",
        "        )\n",
        "\n",
        "    def forward(self, inputs):\n",
        "        # TO-DO: Run the input through the embedding layer\n",
        "        embedded = self.embedding(inputs)\n",
        "\n",
        "        # TO-DO: Run both the embedded and hidden through LSTM\n",
        "        output, hidden = self.lstm(embedded)\n",
        "\n",
        "        # Return both output and hidden\n",
        "        return output, hidden"
      ]
    },
    {
      "cell_type": "code",
      "execution_count": null,
      "metadata": {
        "id": "oMBcVqtBkdm5"
      },
      "outputs": [],
      "source": [
        "# Encoder test\n",
        "dummy_in = torch.randint(1, 10, (6, 5), device=device)\n",
        "dummy_encoder = EncoderRNN(10, 300, 1024).to(device)\n",
        "dummy_out, dummy_hid = dummy_encoder.forward(dummy_in)\n",
        "assert dummy_out.shape == (6, 5, 2 * 1024)"
      ]
    },
    {
      "cell_type": "markdown",
      "metadata": {
        "id": "5ekxl5MczGpy"
      },
      "source": [
        "We use an LSTM decoder. The model definitions will be very similar except that we add a linear layer to project the hidden representations to the output tokens."
      ]
    },
    {
      "cell_type": "code",
      "execution_count": null,
      "metadata": {
        "id": "lxuXcv_4kgLk"
      },
      "outputs": [],
      "source": [
        "class DecoderRNN(torch.nn.Module):\n",
        "    def __init__(self, output_size, emb_size, hidden_size, num_layers=4, dropout=0.3):\n",
        "        super().__init__()\n",
        "\n",
        "        # TO-DO: Create nn.Embedding layer with (output_size, emb_size)\n",
        "        self.embedding = torch.nn.Embedding(output_size, emb_size)\n",
        "\n",
        "        # TO-DO: Create nn.LSTM layer with (emb_size, hidden_size)\n",
        "        # Make sure to set batch_first=True\n",
        "        self.lstm = torch.nn.LSTM(\n",
        "            input_size=emb_size,\n",
        "            hidden_size=hidden_size,\n",
        "            num_layers=num_layers,\n",
        "            batch_first=True,\n",
        "            bidirectional=False,\n",
        "            dropout=dropout,\n",
        "        )\n",
        "\n",
        "        # TO-DO: Create a nn.Linear layer with (hidden_size, output_size)\n",
        "        self.proj = torch.nn.Linear(in_features=hidden_size, out_features=output_size)\n",
        "\n",
        "    def forward(self, inputs, hidden):\n",
        "        # TO-DO: Run the input through the embedding layer\n",
        "        inputs = self.embedding(inputs)\n",
        "\n",
        "        # TO-DO: Run both the input and hidden through LSTM\n",
        "        outputs, hidden = self.lstm(inputs, hidden)\n",
        "\n",
        "        # TO-DO: Run the output through the linear layer\n",
        "        outputs = self.proj(outputs)\n",
        "\n",
        "        # Return both output and hidden\n",
        "        return outputs, hidden"
      ]
    },
    {
      "cell_type": "markdown",
      "metadata": {
        "id": "l4zGCwlmJcPI"
      },
      "source": [
        "### Checkpoint 2\n",
        "\n",
        "You should now be able to pass data through both the encoder and decoder.\n",
        "\n",
        "Note that the number of layers of the decoder should double that of the encoder, because the encoder is bidirectional while the decoder is not."
      ]
    },
    {
      "cell_type": "code",
      "execution_count": null,
      "metadata": {
        "id": "7_2N0WjiIxDo",
        "colab": {
          "base_uri": "https://localhost:8080/"
        },
        "outputId": "afd82b4d-1994-4e48-9b93-be7f35f323b1"
      },
      "outputs": [
        {
          "output_type": "stream",
          "name": "stdout",
          "text": [
            "torch.Size([6, 7, 10])\n"
          ]
        }
      ],
      "source": [
        "# Decoder test\n",
        "dummy_out = torch.randint(1, 10, (6, 7), device=device)\n",
        "dummy_decoder = DecoderRNN(10, 300, 1024).to(device)\n",
        "dummy_pred, _ = dummy_decoder.forward(dummy_out, dummy_hid)\n",
        "print(dummy_pred.shape)\n",
        "assert dummy_pred.shape == (6, 7, 10)"
      ]
    },
    {
      "cell_type": "markdown",
      "metadata": {
        "id": "eaYxxOpPzJII"
      },
      "source": [
        "## Training the Model\n",
        "\n",
        "We now prepare the training loop. We need to first define a datastructure"
      ]
    },
    {
      "cell_type": "code",
      "execution_count": null,
      "metadata": {
        "id": "NUKin5LkMAay"
      },
      "outputs": [],
      "source": [
        "class MTDataset(torch.utils.data.Dataset):\n",
        "    def __init__(self, src, tgt):\n",
        "        self.src = src\n",
        "        self.tgt = tgt\n",
        "\n",
        "    def __getitem__(self, index):\n",
        "        return {\"src\": self.src[index], \"tgt\": self.tgt[index]}\n",
        "\n",
        "    def __len__(self):\n",
        "        return len(self.src)"
      ]
    },
    {
      "cell_type": "code",
      "execution_count": null,
      "metadata": {
        "id": "lmpGgSvXMAay"
      },
      "outputs": [],
      "source": [
        "def collate_fn(batch):\n",
        "    src = torch.nn.utils.rnn.pad_sequence(\n",
        "        [torch.tensor(b[\"src\"]) for b in batch], batch_first=True\n",
        "    )\n",
        "    tgt = torch.nn.utils.rnn.pad_sequence(\n",
        "        [torch.tensor(b[\"tgt\"]) for b in batch], batch_first=True\n",
        "    )\n",
        "    return src, tgt"
      ]
    },
    {
      "cell_type": "markdown",
      "metadata": {
        "id": "Wxt8tAc5KZRw"
      },
      "source": [
        "Helper functions to convert the sentences into vector. Given a list of sentence, we use a Sentencepiece model to tokenize it and convert it into a list of word IDs.\n",
        "\n",
        "Check [Sentencepiece documentations](https://github.com/google/sentencepiece/blob/master/python/README.md#usage) to see how to use the models to convert text into ids."
      ]
    },
    {
      "cell_type": "code",
      "execution_count": null,
      "metadata": {
        "id": "XWLLb5nPk2bh"
      },
      "outputs": [],
      "source": [
        "def preprocess(sp, data):\n",
        "    # TO-DO: use the Sentencepiece model to tokenize and turn the sentences into ids\n",
        "    # remember to add bos and eos tokens (from the Sentencepiece model) to the beginning and end of each sentence\n",
        "\n",
        "    encoded_data = sp.encode_as_ids(data)\n",
        "    encoded_data = [[sp.bos_id()]+ sentence + [sp.eos_id()] for sentence in encoded_data]\n",
        "\n",
        "    return encoded_data"
      ]
    },
    {
      "cell_type": "markdown",
      "metadata": {
        "id": "TJ9VcIcgzStu"
      },
      "source": [
        "### Training Loop\n",
        "\n",
        "Implement the main training loop here. This function takes in one batch of input and target tensors and does a forward pass, backward pass, and weight updates. "
      ]
    },
    {
      "cell_type": "code",
      "execution_count": null,
      "metadata": {
        "id": "_N-h0dp0k8wo"
      },
      "outputs": [],
      "source": [
        "def train(\n",
        "    input_tensor,\n",
        "    target_tensor,\n",
        "    encoder,\n",
        "    decoder,\n",
        "    optimizer,\n",
        "    criterion,\n",
        "    use_teacher_forcing,\n",
        "    training=True,\n",
        "):\n",
        "    if training:\n",
        "        # TO-DO: Reset/Zero parameter gradients of the optimizer. Hint: https://pytorch.org/tutorials/recipes/recipes/zeroing_out_gradients.html#zero-the-gradients-while-training-the-network\n",
        "        optimizer.zero_grad()\n",
        "\n",
        "    loss = 0\n",
        "\n",
        "    encoder_output, encoder_hidden = encoder(input_tensor)\n",
        "    dec_length = target_tensor.size()[-1]\n",
        "\n",
        "    if use_teacher_forcing:\n",
        "        # Teacher forcing: Feed the target as the next input\n",
        "        # Remember that we are giving target[:-1] as the input, and matching targe[1:] with the output\n",
        "        \n",
        "        # TO-DO: Run decoder by providing target and encoder_hidden as input\n",
        "        decoder_output, _ = decoder(target_tensor[:,:-1], encoder_hidden)\n",
        "\n",
        "        # TO-DO: Calculate loss\n",
        "        loss = criterion(decoder_output.transpose(-1, -2), target_tensor[:,1:])\n",
        "\n",
        "    else:\n",
        "        dec_length = 0\n",
        "        # Without teacher forcing: use its own predictions as the next input\n",
        "        decoder_input = torch.tensor(\n",
        "            [[SOS_token]] * target_tensor.size()[0], device=device\n",
        "        )\n",
        "        last_hidden = encoder_hidden\n",
        "        for di in range(target_tensor.size()[-1] - 1):\n",
        "            dec_length += 1\n",
        "            # TO-DO: Run decoder by providing decoder_input and decoder_hidden as input\n",
        "            decoder_output, last_hidden = decoder(decoder_input, last_hidden)\n",
        "\n",
        "            # Take the top output of current timestep of decoder. This will be input to next timestep\n",
        "            topv, topi = decoder_output.topk(1, dim=-1)\n",
        "            decoder_input = topi.squeeze(-1).detach()  # detach from history as input\n",
        "\n",
        "            loss += criterion(decoder_output.squeeze(-2), target_tensor[:,di+1])\n",
        "            if not training and torch.sum(decoder_input) == 0:\n",
        "                break\n",
        "\n",
        "    if training:\n",
        "        # TO-DO: Backprop by calling backward() function on loss\n",
        "        loss.backward()\n",
        "\n",
        "        # TO-DO: Update weights using step() on both encoder_optimizer and decoder_optimizer\n",
        "        optimizer.step()\n",
        "\n",
        "    return loss.item() / dec_length"
      ]
    },
    {
      "cell_type": "code",
      "execution_count": null,
      "metadata": {
        "id": "0xV9QrE_lGyb"
      },
      "outputs": [],
      "source": [
        "def trainIters(\n",
        "    encoder,\n",
        "    decoder,\n",
        "    n_iters,\n",
        "    train_loader,\n",
        "    valid_loader,\n",
        "    learning_rate=0.001,\n",
        "    teacher_forcing_ratio=0.5,\n",
        "):\n",
        "    # Initialize AdamW optimizer for both encoder and decoder\n",
        "    optimizer = torch.optim.AdamW(\n",
        "        [{\"params\": encoder.parameters()}, {\"params\": decoder.parameters()}],\n",
        "        lr=learning_rate,\n",
        "    )\n",
        "\n",
        "    # We will be using cross entropy as the criterion\n",
        "    criterion = torch.nn.CrossEntropyLoss()\n",
        "\n",
        "    epoch_train_losses = []\n",
        "    epoch_valid_losses = []\n",
        "\n",
        "    # In each epoch, we go through all training examples\n",
        "    for iter in range(1, n_iters + 1):\n",
        "        # Train\n",
        "        train_loss = []\n",
        "        for input_tensor, output_tensor in tqdm(train_loader):\n",
        "            use_teacherforcing = (\n",
        "                True if random.random() < teacher_forcing_ratio else False\n",
        "            )\n",
        "\n",
        "            loss = train(\n",
        "                input_tensor.to(device),\n",
        "                output_tensor.to(device),\n",
        "                encoder,\n",
        "                decoder,\n",
        "                optimizer,\n",
        "                criterion,\n",
        "                use_teacherforcing,\n",
        "            )\n",
        "            train_loss.append(loss)\n",
        "\n",
        "        # Validate\n",
        "        valid_loss = []\n",
        "        for input_tensor, output_tensor in tqdm(valid_loader):\n",
        "            loss = train(\n",
        "                input_tensor.to(device),\n",
        "                output_tensor.to(device),\n",
        "                encoder,\n",
        "                decoder,\n",
        "                optimizer,\n",
        "                criterion,\n",
        "                False,\n",
        "                training=False,\n",
        "            )\n",
        "            valid_loss.append(loss)\n",
        "\n",
        "        avg_train_loss = np.mean(train_loss)\n",
        "        avg_valid_loss = np.mean(valid_loss)\n",
        "\n",
        "        print(\n",
        "            \"Epoch: {}/{}. Avg Train Loss: {}. Avg Valid Loss: {}\".format(\n",
        "                iter, n_iters, avg_train_loss, avg_valid_loss\n",
        "            )\n",
        "        )\n",
        "\n",
        "        epoch_train_losses.append(avg_train_loss)\n",
        "        epoch_valid_losses.append(avg_valid_loss)\n",
        "\n",
        "    return epoch_train_losses, epoch_valid_losses"
      ]
    },
    {
      "cell_type": "markdown",
      "metadata": {
        "id": "iLCVURlPzlUb"
      },
      "source": [
        "Define the hyperparameters. You can try different settings.\n",
        "\n",
        "If you are running into memory issues, decrease the BATCH_SIZE or EMB_SIZE or HIDDEN_SIZE.\n",
        "\n",
        "If you have access to more powerful hardware, you can increase the BATCH_SIZE, EMB_SIZE, HIDDEN_SIZE, NUM_EPOCHS to train longer."
      ]
    },
    {
      "cell_type": "code",
      "execution_count": null,
      "metadata": {
        "id": "eYye7pQOhNC2"
      },
      "outputs": [],
      "source": [
        "# Model Training Hyper-Parameters\n",
        "MAX_LENGTH = 20\n",
        "EMB_SIZE = 100\n",
        "HIDDEN_SIZE = 256\n",
        "NUM_LAYERS = 2\n",
        "NUM_EPOCHS = 20\n",
        "BATCH_SIZE = 128\n",
        "LEARNING_RATE = 1e-3\n",
        "DROPOUT = 0.3\n",
        "TEACHER_FORCING_RATIO = 0.5"
      ]
    },
    {
      "cell_type": "markdown",
      "metadata": {
        "id": "KRXO20epC-V-"
      },
      "source": [
        "Turn sequences of text into sequences of ids."
      ]
    },
    {
      "cell_type": "code",
      "execution_count": null,
      "metadata": {
        "id": "7C4pGP0XMAay"
      },
      "outputs": [],
      "source": [
        "# reload thesentencepiece models if necessary\n",
        "en_sp = spm.SentencePieceProcessor(model_file=\"en-zh.en.model\")\n",
        "zh_sp = spm.SentencePieceProcessor(model_file=\"en-zh.zh.model\")"
      ]
    },
    {
      "cell_type": "code",
      "execution_count": null,
      "metadata": {
        "id": "UJPqb8eLQBgO"
      },
      "outputs": [],
      "source": [
        "src = preprocess(en_sp, train_data[\"en\"])\n",
        "tgt = preprocess(zh_sp, train_data[\"zh\"])\n",
        "train_dataset = MTDataset(src, tgt)"
      ]
    },
    {
      "cell_type": "code",
      "execution_count": null,
      "metadata": {
        "id": "T7IiXc67pnDF"
      },
      "outputs": [],
      "source": [
        "src = preprocess(en_sp, valid_data[\"en\"])\n",
        "tgt = preprocess(zh_sp, valid_data[\"zh\"])\n",
        "valid_dataset = MTDataset(src, tgt)"
      ]
    },
    {
      "cell_type": "markdown",
      "metadata": {
        "id": "2xij73iGGSBX"
      },
      "source": [
        "Generate training and validation splits and dataloaders."
      ]
    },
    {
      "cell_type": "code",
      "execution_count": null,
      "metadata": {
        "id": "AwPvXKWeGSYo"
      },
      "outputs": [],
      "source": [
        "train_loader = torch.utils.data.DataLoader(\n",
        "    train_dataset, collate_fn=collate_fn, batch_size=BATCH_SIZE, shuffle=True\n",
        ")\n",
        "valid_loader = torch.utils.data.DataLoader(\n",
        "    valid_dataset, collate_fn=collate_fn, batch_size=BATCH_SIZE, shuffle=True\n",
        ")"
      ]
    },
    {
      "cell_type": "markdown",
      "metadata": {
        "id": "xyUlEf2QDLcx"
      },
      "source": [
        "Now we can create the models and start the training loop"
      ]
    },
    {
      "cell_type": "code",
      "execution_count": null,
      "metadata": {
        "id": "TFX50FjYMAaz",
        "colab": {
          "base_uri": "https://localhost:8080/"
        },
        "outputId": "1f12e46e-7302-4665-b26e-0bdcf2c64ab9"
      },
      "outputs": [
        {
          "output_type": "stream",
          "name": "stderr",
          "text": [
            "100%|██████████| 334/334 [00:26<00:00, 12.69it/s]\n",
            "100%|██████████| 42/42 [00:00<00:00, 50.94it/s]\n"
          ]
        },
        {
          "output_type": "stream",
          "name": "stdout",
          "text": [
            "Epoch: 1/20. Avg Train Loss: 1.3853180341375855. Avg Valid Loss: 5.1026242803367\n"
          ]
        },
        {
          "output_type": "stream",
          "name": "stderr",
          "text": [
            "100%|██████████| 334/334 [00:21<00:00, 15.32it/s]\n",
            "100%|██████████| 42/42 [00:01<00:00, 38.40it/s]\n"
          ]
        },
        {
          "output_type": "stream",
          "name": "stdout",
          "text": [
            "Epoch: 2/20. Avg Train Loss: 1.4087164385925695. Avg Valid Loss: 4.958325295454125\n"
          ]
        },
        {
          "output_type": "stream",
          "name": "stderr",
          "text": [
            "100%|██████████| 334/334 [00:21<00:00, 15.31it/s]\n",
            "100%|██████████| 42/42 [00:00<00:00, 46.17it/s]\n"
          ]
        },
        {
          "output_type": "stream",
          "name": "stdout",
          "text": [
            "Epoch: 3/20. Avg Train Loss: 1.4266852844051794. Avg Valid Loss: 4.603003003590466\n"
          ]
        },
        {
          "output_type": "stream",
          "name": "stderr",
          "text": [
            "100%|██████████| 334/334 [00:22<00:00, 15.05it/s]\n",
            "100%|██████████| 42/42 [00:00<00:00, 46.31it/s]\n"
          ]
        },
        {
          "output_type": "stream",
          "name": "stdout",
          "text": [
            "Epoch: 4/20. Avg Train Loss: 1.364247611542441. Avg Valid Loss: 4.4831377485376045\n"
          ]
        },
        {
          "output_type": "stream",
          "name": "stderr",
          "text": [
            "100%|██████████| 334/334 [00:23<00:00, 14.49it/s]\n",
            "100%|██████████| 42/42 [00:00<00:00, 45.11it/s]\n"
          ]
        },
        {
          "output_type": "stream",
          "name": "stdout",
          "text": [
            "Epoch: 5/20. Avg Train Loss: 1.306155278614417. Avg Valid Loss: 4.29059495343416\n"
          ]
        },
        {
          "output_type": "stream",
          "name": "stderr",
          "text": [
            "100%|██████████| 334/334 [00:22<00:00, 15.17it/s]\n",
            "100%|██████████| 42/42 [00:00<00:00, 42.83it/s]\n"
          ]
        },
        {
          "output_type": "stream",
          "name": "stdout",
          "text": [
            "Epoch: 6/20. Avg Train Loss: 1.406256360241278. Avg Valid Loss: 4.210012896152907\n"
          ]
        },
        {
          "output_type": "stream",
          "name": "stderr",
          "text": [
            "100%|██████████| 334/334 [00:22<00:00, 15.04it/s]\n",
            "100%|██████████| 42/42 [00:00<00:00, 43.31it/s]\n"
          ]
        },
        {
          "output_type": "stream",
          "name": "stdout",
          "text": [
            "Epoch: 7/20. Avg Train Loss: 1.3236968723390299. Avg Valid Loss: 4.0527035246354775\n"
          ]
        },
        {
          "output_type": "stream",
          "name": "stderr",
          "text": [
            "100%|██████████| 334/334 [00:22<00:00, 15.07it/s]\n",
            "100%|██████████| 42/42 [00:00<00:00, 44.05it/s]\n"
          ]
        },
        {
          "output_type": "stream",
          "name": "stdout",
          "text": [
            "Epoch: 8/20. Avg Train Loss: 1.2871304494276798. Avg Valid Loss: 3.9649543023204226\n"
          ]
        },
        {
          "output_type": "stream",
          "name": "stderr",
          "text": [
            "100%|██████████| 334/334 [00:21<00:00, 15.49it/s]\n",
            "100%|██████████| 42/42 [00:01<00:00, 34.72it/s]\n"
          ]
        },
        {
          "output_type": "stream",
          "name": "stdout",
          "text": [
            "Epoch: 9/20. Avg Train Loss: 1.1901201510932322. Avg Valid Loss: 4.0730608126815815\n"
          ]
        },
        {
          "output_type": "stream",
          "name": "stderr",
          "text": [
            "100%|██████████| 334/334 [00:22<00:00, 15.17it/s]\n",
            "100%|██████████| 42/42 [00:00<00:00, 42.79it/s]\n"
          ]
        },
        {
          "output_type": "stream",
          "name": "stdout",
          "text": [
            "Epoch: 10/20. Avg Train Loss: 1.332144196293397. Avg Valid Loss: 3.800674211907799\n"
          ]
        },
        {
          "output_type": "stream",
          "name": "stderr",
          "text": [
            "100%|██████████| 334/334 [00:21<00:00, 15.40it/s]\n",
            "100%|██████████| 42/42 [00:01<00:00, 41.91it/s]\n"
          ]
        },
        {
          "output_type": "stream",
          "name": "stdout",
          "text": [
            "Epoch: 11/20. Avg Train Loss: 1.1533670747129663. Avg Valid Loss: 3.952240179673918\n"
          ]
        },
        {
          "output_type": "stream",
          "name": "stderr",
          "text": [
            "100%|██████████| 334/334 [00:22<00:00, 15.16it/s]\n",
            "100%|██████████| 42/42 [00:01<00:00, 32.17it/s]\n"
          ]
        },
        {
          "output_type": "stream",
          "name": "stdout",
          "text": [
            "Epoch: 12/20. Avg Train Loss: 1.2330925665712256. Avg Valid Loss: 3.54468909726283\n"
          ]
        },
        {
          "output_type": "stream",
          "name": "stderr",
          "text": [
            "100%|██████████| 334/334 [00:21<00:00, 15.43it/s]\n",
            "100%|██████████| 42/42 [00:01<00:00, 41.10it/s]\n"
          ]
        },
        {
          "output_type": "stream",
          "name": "stdout",
          "text": [
            "Epoch: 13/20. Avg Train Loss: 1.1568741389687105. Avg Valid Loss: 3.6399159193598485\n"
          ]
        },
        {
          "output_type": "stream",
          "name": "stderr",
          "text": [
            "100%|██████████| 334/334 [00:22<00:00, 14.92it/s]\n",
            "100%|██████████| 42/42 [00:01<00:00, 40.98it/s]\n"
          ]
        },
        {
          "output_type": "stream",
          "name": "stdout",
          "text": [
            "Epoch: 14/20. Avg Train Loss: 1.3101731091931557. Avg Valid Loss: 3.5296945942974296\n"
          ]
        },
        {
          "output_type": "stream",
          "name": "stderr",
          "text": [
            "100%|██████████| 334/334 [00:22<00:00, 15.13it/s]\n",
            "100%|██████████| 42/42 [00:01<00:00, 39.06it/s]\n"
          ]
        },
        {
          "output_type": "stream",
          "name": "stdout",
          "text": [
            "Epoch: 15/20. Avg Train Loss: 1.1994090851357062. Avg Valid Loss: 3.3976958104128423\n"
          ]
        },
        {
          "output_type": "stream",
          "name": "stderr",
          "text": [
            "100%|██████████| 334/334 [00:21<00:00, 15.55it/s]\n",
            "100%|██████████| 42/42 [00:01<00:00, 28.62it/s]\n"
          ]
        },
        {
          "output_type": "stream",
          "name": "stdout",
          "text": [
            "Epoch: 16/20. Avg Train Loss: 1.0758567787520708. Avg Valid Loss: 3.3793369875144768\n"
          ]
        },
        {
          "output_type": "stream",
          "name": "stderr",
          "text": [
            "100%|██████████| 334/334 [00:21<00:00, 15.36it/s]\n",
            "100%|██████████| 42/42 [00:01<00:00, 37.60it/s]\n"
          ]
        },
        {
          "output_type": "stream",
          "name": "stdout",
          "text": [
            "Epoch: 17/20. Avg Train Loss: 1.0773320827748798. Avg Valid Loss: 3.2331873172209233\n"
          ]
        },
        {
          "output_type": "stream",
          "name": "stderr",
          "text": [
            "100%|██████████| 334/334 [00:22<00:00, 15.06it/s]\n",
            "100%|██████████| 42/42 [00:01<00:00, 38.36it/s]\n"
          ]
        },
        {
          "output_type": "stream",
          "name": "stdout",
          "text": [
            "Epoch: 18/20. Avg Train Loss: 1.1178809100958371. Avg Valid Loss: 3.2741016841770594\n"
          ]
        },
        {
          "output_type": "stream",
          "name": "stderr",
          "text": [
            "100%|██████████| 334/334 [00:22<00:00, 15.03it/s]\n",
            "100%|██████████| 42/42 [00:01<00:00, 28.52it/s]\n"
          ]
        },
        {
          "output_type": "stream",
          "name": "stdout",
          "text": [
            "Epoch: 19/20. Avg Train Loss: 1.1489128569413891. Avg Valid Loss: 3.2012481652265854\n"
          ]
        },
        {
          "output_type": "stream",
          "name": "stderr",
          "text": [
            "100%|██████████| 334/334 [00:21<00:00, 15.26it/s]\n",
            "100%|██████████| 42/42 [00:01<00:00, 35.84it/s]"
          ]
        },
        {
          "output_type": "stream",
          "name": "stdout",
          "text": [
            "Epoch: 20/20. Avg Train Loss: 1.1403109400952185. Avg Valid Loss: 3.2593243398458958\n"
          ]
        },
        {
          "output_type": "stream",
          "name": "stderr",
          "text": [
            "\n"
          ]
        }
      ],
      "source": [
        "encoder_eng_zh = EncoderRNN(en_sp.vocab_size(), EMB_SIZE, HIDDEN_SIZE, num_layers=NUM_LAYERS, dropout=DROPOUT).to(device)\n",
        "decoder_eng_zh = DecoderRNN(zh_sp.vocab_size(), EMB_SIZE, HIDDEN_SIZE, num_layers=NUM_LAYERS*2, dropout=DROPOUT).to(device)\n",
        "SOS_token = en_sp.bos_id()\n",
        "\n",
        "avg_train_losses_zh, avg_valid_losses_zh = trainIters(\n",
        "    encoder_eng_zh, decoder_eng_zh, NUM_EPOCHS, train_loader, valid_loader, learning_rate=LEARNING_RATE, teacher_forcing_ratio=TEACHER_FORCING_RATIO\n",
        ")"
      ]
    },
    {
      "cell_type": "markdown",
      "metadata": {
        "id": "OoxlVmdLDdaE"
      },
      "source": [
        "Save your models and training log after training. You should download the weights and logs from Colab so you don't have to train the model again when you start working on the rest of the notebook.\n",
        "\n"
      ]
    },
    {
      "cell_type": "code",
      "execution_count": null,
      "metadata": {
        "id": "vscJES10D45a"
      },
      "outputs": [],
      "source": [
        "torch.save(encoder_eng_zh, 'en_zh_encoder.pt')\n",
        "torch.save(decoder_eng_zh, 'en_zh_decoder.pt')\n",
        "\n",
        "with open(\"losses_en_zh.txt\", \"w\") as fp:\n",
        "    for i, j in zip(avg_train_losses_zh, avg_valid_losses_zh):\n",
        "        fp.write(\"{:.12f} {:.12f}\\n\".format(i, j))"
      ]
    },
    {
      "cell_type": "markdown",
      "metadata": {
        "id": "DW17lwRuEcNh"
      },
      "source": [
        "### Checkpoint 3\n",
        "\n",
        "Use this function to plot the training and evaluation losses. What trends can you observe?"
      ]
    },
    {
      "cell_type": "code",
      "source": [
        "def plot_losses(train_losses, valid_losses):\n",
        "    import matplotlib.pyplot as plt\n",
        "    fig, ax = plt.subplots()\n",
        "    x = np.arange(len(train_losses)) + 1\n",
        "    ax.plot(x, train_losses, 'o-', label='training')\n",
        "    ax.plot(x, valid_losses, 'o-', label='validation')\n",
        "    ax.set_xlabel('epochs')\n",
        "    ax.set_ylabel('loss values')\n",
        "    ax.legend()\n",
        "    plt.tight_layout()\n",
        "    plt.show()"
      ],
      "metadata": {
        "id": "WzrtphY_tvbe"
      },
      "execution_count": null,
      "outputs": []
    },
    {
      "cell_type": "code",
      "source": [
        "plot_losses(avg_train_losses_zh, avg_valid_losses_zh)"
      ],
      "metadata": {
        "id": "mLlgaoNztwvy",
        "colab": {
          "base_uri": "https://localhost:8080/",
          "height": 487
        },
        "outputId": "5415eb5f-0231-4473-d43d-241925e3290c"
      },
      "execution_count": null,
      "outputs": [
        {
          "output_type": "display_data",
          "data": {
            "text/plain": [
              "<Figure size 640x480 with 1 Axes>"
            ],
            "image/png": "[encoded data removed]"
          },
          "metadata": {}
        }
      ]
    },
    {
      "cell_type": "markdown",
      "metadata": {
        "id": "1ehweWG2ztnl"
      },
      "source": [
        "## Evaluating the model"
      ]
    },
    {
      "cell_type": "markdown",
      "source": [
        "Implement the baseline decoding method that generate the tokens greedily."
      ],
      "metadata": {
        "id": "cgXkV6X6j8xG"
      }
    },
    {
      "cell_type": "code",
      "execution_count": null,
      "metadata": {
        "id": "AX1gbuhRgC2a"
      },
      "outputs": [],
      "source": [
        "def predict(encoder, decoder, sentence, src_sp, tgt_sp):\n",
        "    with torch.no_grad():\n",
        "        input_tensor = [[src_sp.bos_id()] + src_sp.encode_as_ids(sentence) + [src_sp.eos_id()]]\n",
        "        input_tensor = torch.tensor(input_tensor, device=device)\n",
        "\n",
        "        encoder_output, encoder_hidden = encoder(input_tensor)\n",
        "        decoder_input = torch.tensor([[tgt_sp.bos_id()]], device=device)\n",
        "        decoder_hidden = encoder_hidden\n",
        "\n",
        "        decoded_ids = []\n",
        "\n",
        "        for di in range(MAX_LENGTH):\n",
        "            # TO-DO: generate next output and hidden state from decoder_input and decoder_hidden\n",
        "            decoder_output, decoder_hidden = decoder(decoder_input, encoder_hidden)\n",
        "\n",
        "            # TO-DO: get the id of the most likely item from decoder_output\n",
        "            _, topi = decoder_output.data.topk(1,  dim=-1)\n",
        "            if topi.item() == tgt_sp.eos_id():\n",
        "                break\n",
        "            else:\n",
        "                decoded_ids.append(topi.item())\n",
        "\n",
        "            decoder_input = topi.squeeze(-1).detach()\n",
        "        # TO-DO: use the Sentencepiece model to convert the ids back to a string\n",
        "        decoded_words = tgt_sp.decode(decoder_input)\n",
        "\n",
        "        return decoded_words"
      ]
    },
    {
      "cell_type": "markdown",
      "source": [
        "Bonus points (20%): implement beam search. This is optional.\n",
        "\n",
        "To make autograding work, your beam_search should return a list of predictions from the most likely to the least likely, and each prediction should be a tuple of (score, text). For example:\n",
        "\n",
        "```\n",
        "[(0,2, \"Thank you\"), (0.1, \"Thanks\"), (0.01, \"Thanks you\")]\n",
        "```"
      ],
      "metadata": {
        "id": "0LEO_r6AkaSB"
      }
    },
    {
      "cell_type": "code",
      "execution_count": null,
      "metadata": {
        "id": "bSs9bH5pdRho"
      },
      "outputs": [],
      "source": [
        "def beam_search(encoder, decoder, sentence, src_sp, tgt_sp, beam_size=5):\n",
        "    assert beam_size > 1, \"if beam_size = 1, then that's greedy search\"\n",
        "    with torch.no_grad():\n",
        "        # TO-DO: Just like predict() but instead of the topk with 1, take topk with beam_size and rank sort the beam for the more likely probability\n",
        "        raise NotImplemented"
      ]
    },
    {
      "cell_type": "markdown",
      "metadata": {
        "id": "yN6VGxL4z3JY"
      },
      "source": [
        "Try out a random input. \n",
        "\n",
        "1. Does the output make sense if given an input from the training set?\n",
        "2. Does the output make sense if given an arbitrary input?"
      ]
    },
    {
      "cell_type": "code",
      "execution_count": null,
      "metadata": {
        "id": "cU4WSPHXHb5f"
      },
      "outputs": [],
      "source": [
        "# reload the encoder and decoder if necessary\n",
        "encoder_eng_zh = torch.load('en_zh_encoder.pt')\n",
        "decoder_eng_zh = torch.load('en_zh_decoder.pt')"
      ]
    },
    {
      "cell_type": "code",
      "execution_count": null,
      "metadata": {
        "id": "Tge_5xmLrSkn",
        "colab": {
          "base_uri": "https://localhost:8080/",
          "height": 380
        },
        "outputId": "fbcd6168-d70a-4a3e-d326-ab57d0f607ca"
      },
      "outputs": [
        {
          "output_type": "error",
          "ename": "RuntimeError",
          "evalue": "ignored",
          "traceback": [
            "\u001b[0;31m---------------------------------------------------------------------------\u001b[0m",
            "\u001b[0;31mRuntimeError\u001b[0m                              Traceback (most recent call last)",
            "\u001b[0;32m<ipython-input-56-b20ffd27531c>\u001b[0m in \u001b[0;36m<cell line: 1>\u001b[0;34m()\u001b[0m\n\u001b[1;32m      1\u001b[0m print(\n\u001b[0;32m----> 2\u001b[0;31m     predict(\n\u001b[0m\u001b[1;32m      3\u001b[0m         \u001b[0mencoder_eng_zh\u001b[0m\u001b[0;34m,\u001b[0m\u001b[0;34m\u001b[0m\u001b[0;34m\u001b[0m\u001b[0m\n\u001b[1;32m      4\u001b[0m         \u001b[0mdecoder_eng_zh\u001b[0m\u001b[0;34m,\u001b[0m\u001b[0;34m\u001b[0m\u001b[0;34m\u001b[0m\u001b[0m\n\u001b[1;32m      5\u001b[0m         \u001b[0;34m\"What gives us the courage?\"\u001b[0m\u001b[0;34m,\u001b[0m\u001b[0;34m\u001b[0m\u001b[0;34m\u001b[0m\u001b[0m\n",
            "\u001b[0;32m<ipython-input-53-bdbe90e2405f>\u001b[0m in \u001b[0;36mpredict\u001b[0;34m(encoder, decoder, sentence, src_sp, tgt_sp)\u001b[0m\n\u001b[1;32m     23\u001b[0m             \u001b[0mdecoder_input\u001b[0m \u001b[0;34m=\u001b[0m \u001b[0mtopi\u001b[0m\u001b[0;34m.\u001b[0m\u001b[0msqueeze\u001b[0m\u001b[0;34m(\u001b[0m\u001b[0;34m-\u001b[0m\u001b[0;36m1\u001b[0m\u001b[0;34m)\u001b[0m\u001b[0;34m.\u001b[0m\u001b[0mdetach\u001b[0m\u001b[0;34m(\u001b[0m\u001b[0;34m)\u001b[0m\u001b[0;34m\u001b[0m\u001b[0;34m\u001b[0m\u001b[0m\n\u001b[1;32m     24\u001b[0m         \u001b[0;31m# TO-DO: use the Sentencepiece model to convert the ids back to a string\u001b[0m\u001b[0;34m\u001b[0m\u001b[0;34m\u001b[0m\u001b[0m\n\u001b[0;32m---> 25\u001b[0;31m         \u001b[0mdecoded_words\u001b[0m \u001b[0;34m=\u001b[0m \u001b[0mtgt_sp\u001b[0m\u001b[0;34m.\u001b[0m\u001b[0mdecode\u001b[0m\u001b[0;34m(\u001b[0m\u001b[0mdecoder_input\u001b[0m\u001b[0;34m)\u001b[0m\u001b[0;34m\u001b[0m\u001b[0;34m\u001b[0m\u001b[0m\n\u001b[0m\u001b[1;32m     26\u001b[0m \u001b[0;34m\u001b[0m\u001b[0m\n\u001b[1;32m     27\u001b[0m         \u001b[0;32mreturn\u001b[0m \u001b[0mdecoded_words\u001b[0m\u001b[0;34m\u001b[0m\u001b[0;34m\u001b[0m\u001b[0m\n",
            "\u001b[0;32m/usr/local/lib/python3.9/dist-packages/sentencepiece/__init__.py\u001b[0m in \u001b[0;36mDecode\u001b[0;34m(self, input, out_type, num_threads)\u001b[0m\n\u001b[1;32m    826\u001b[0m \u001b[0;34m\u001b[0m\u001b[0m\n\u001b[1;32m    827\u001b[0m \u001b[0;34m\u001b[0m\u001b[0m\n\u001b[0;32m--> 828\u001b[0;31m       \u001b[0;32mraise\u001b[0m \u001b[0mRuntimeError\u001b[0m\u001b[0;34m(\u001b[0m\u001b[0;34m'unknown output or input type'\u001b[0m\u001b[0;34m)\u001b[0m\u001b[0;34m\u001b[0m\u001b[0;34m\u001b[0m\u001b[0m\n\u001b[0m\u001b[1;32m    829\u001b[0m       \u001b[0;32mreturn\u001b[0m \u001b[0;32mNone\u001b[0m\u001b[0;34m\u001b[0m\u001b[0;34m\u001b[0m\u001b[0m\n\u001b[1;32m    830\u001b[0m \u001b[0;34m\u001b[0m\u001b[0m\n",
            "\u001b[0;31mRuntimeError\u001b[0m: unknown output or input type"
          ]
        }
      ],
      "source": [
        "print(\n",
        "    predict(\n",
        "        encoder_eng_zh,\n",
        "        decoder_eng_zh,\n",
        "        \"What gives us the courage?\",\n",
        "        en_sp,\n",
        "        zh_sp,\n",
        "    )\n",
        ")"
      ]
    },
    {
      "cell_type": "code",
      "execution_count": null,
      "metadata": {
        "id": "T3H9Ac7eMHeL"
      },
      "outputs": [],
      "source": [
        "print(\n",
        "    beam_search(\n",
        "        encoder_eng_zh,\n",
        "        decoder_eng_zh,\n",
        "        \"What gives us the courage?\",\n",
        "        en_sp,\n",
        "        zh_sp,\n",
        "        beam_size=5,\n",
        "    )\n",
        ")"
      ]
    },
    {
      "cell_type": "markdown",
      "metadata": {
        "id": "rITuKy0o_ayD"
      },
      "source": [
        "Define a function to generate model predictions and save them in a file. Download your model predictions."
      ]
    },
    {
      "cell_type": "code",
      "execution_count": null,
      "metadata": {
        "id": "Q7vE5rlDhsFx"
      },
      "outputs": [],
      "source": [
        "def generate_and_save(valid_inputs, encoder, decoder, src_sp, tgt_sp, beam_size=1, saveloc=\"preds.zh\"):\n",
        "    generated_sents = []\n",
        "    for src_sent in tqdm(valid_inputs):\n",
        "        if beam_size <= 1:\n",
        "            tgt_sent = predict(encoder, decoder, src_sent, src_sp, tgt_sp)\n",
        "        else:\n",
        "            # change this if your beam search returns something different\n",
        "            tgt_sent = beam_search(encoder, decoder, src_sent, src_sp, tgt_sp, beam_size)[0][1]\n",
        "        # if the decoded string is empty, we replace it with the Sentencepiece unk character\n",
        "        if len(tgt_sent) == 0:\n",
        "            tgt_sent = \"⁇\"\n",
        "        generated_sents.append(tgt_sent)\n",
        "    with open(saveloc, \"w\") as fout:\n",
        "        fout.write(\"\\n\".join(generated_sents))\n",
        "    return generated_sents"
      ]
    },
    {
      "cell_type": "markdown",
      "metadata": {
        "id": "BxzpFaKQ0EjN"
      },
      "source": [
        "### Checkpoint 4\n",
        "\n",
        "Calculate BLEU and CHRF scores."
      ]
    },
    {
      "cell_type": "code",
      "execution_count": null,
      "metadata": {
        "id": "fpWdzp-nuoS5"
      },
      "outputs": [],
      "source": [
        "with open(\"valid.zh\") as fin:\n",
        "    refs = fin.read().strip().split(\"\\n\")"
      ]
    },
    {
      "cell_type": "code",
      "execution_count": null,
      "metadata": {
        "id": "5EpUbol2u1nh"
      },
      "outputs": [],
      "source": [
        "preds = generate_and_save(valid_data[\"en\"], encoder_eng_zh, decoder_eng_zh, en_sp, zh_sp, saveloc=\"valid_preds.zh\")"
      ]
    },
    {
      "cell_type": "markdown",
      "source": [
        "The BLEU score will be very low for the baseline model."
      ],
      "metadata": {
        "id": "dN6XTgEazwth"
      }
    },
    {
      "cell_type": "code",
      "execution_count": null,
      "metadata": {
        "id": "xcfJYlvytFrc"
      },
      "outputs": [],
      "source": [
        "bleu = BLEU(tokenize=\"flores101\")\n",
        "print(bleu.corpus_score(preds, refs))"
      ]
    },
    {
      "cell_type": "markdown",
      "source": [
        "You should get at least 25 CHRF score."
      ],
      "metadata": {
        "id": "PJQUow9Dz2iH"
      }
    },
    {
      "cell_type": "code",
      "execution_count": null,
      "metadata": {
        "id": "aRRB5hjwvQcN"
      },
      "outputs": [],
      "source": [
        "chrf = CHRF()\n",
        "print(chrf.corpus_score(preds, refs))"
      ]
    }
  ],
  "metadata": {
    "accelerator": "GPU",
    "colab": {
      "provenance": []
    },
    "gpuClass": "standard",
    "kernelspec": {
      "display_name": "Python 3 (ipykernel)",
      "language": "python",
      "name": "python3"
    },
    "language_info": {
      "codemirror_mode": {
        "name": "ipython",
        "version": 3
      },
      "file_extension": ".py",
      "mimetype": "text/x-python",
      "name": "python",
      "nbconvert_exporter": "python",
      "pygments_lexer": "ipython3",
      "version": "3.10.9"
    }
  },
  "nbformat": 4,
  "nbformat_minor": 0
}